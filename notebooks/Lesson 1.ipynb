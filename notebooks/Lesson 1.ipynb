{
 "cells": [
  {
   "cell_type": "markdown",
   "metadata": {},
   "source": [
    "# Задание 1"
   ]
  },
  {
   "cell_type": "code",
   "execution_count": null,
   "metadata": {},
   "outputs": [],
   "source": [
    "%matplotlib inline\n",
    "\n",
    "import itertools\n",
    "import random\n",
    "from typing import Generator\n",
    "\n",
    "import matplotlib.pyplot as plt\n",
    "import numpy as np\n",
    "import seaborn as sns\n",
    "import pandas as pd\n",
    "\n",
    "sns.set(style='whitegrid')"
   ]
  },
  {
   "cell_type": "markdown",
   "metadata": {},
   "source": [
    "## Упражнение 1.\n",
    "Составить программы для моделирования случайных чисел, имеющих геометрическое и биномиальное распределение.\n",
    "\n",
    "Получить $N$ значений случайного числа для каждого распределения."
   ]
  },
  {
   "cell_type": "markdown",
   "metadata": {},
   "source": [
    "### Геометрическое"
   ]
  },
  {
   "cell_type": "code",
   "execution_count": null,
   "metadata": {},
   "outputs": [],
   "source": [
    "n_points = 10000\n",
    "\n",
    "\n",
    "def geometric_generator(p: float = 0.5) -> Generator[int, None, None]:\n",
    "    while True:\n",
    "        n = 0\n",
    "        while random.random() > p:\n",
    "            n += 1\n",
    "        yield n"
   ]
  },
  {
   "cell_type": "code",
   "execution_count": null,
   "metadata": {
    "scrolled": false
   },
   "outputs": [],
   "source": [
    "data = np.fromiter(geometric_generator(), int, count=n_points)\n",
    "plt.hist(data)\n",
    "plt.show()"
   ]
  },
  {
   "cell_type": "markdown",
   "metadata": {},
   "source": [
    "### Биномиальное"
   ]
  },
  {
   "cell_type": "code",
   "execution_count": null,
   "metadata": {},
   "outputs": [],
   "source": [
    "def binomial_generator(p: float = 0.5, n: int = 10) -> Generator[int, None, None]:\n",
    "    while True:\n",
    "        k = 0\n",
    "        for i in range(n):\n",
    "            if random.random() > p:\n",
    "                k += 1\n",
    "        yield k"
   ]
  },
  {
   "cell_type": "code",
   "execution_count": null,
   "metadata": {},
   "outputs": [],
   "source": [
    "data = np.fromiter(binomial_generator(), int, count=n_points)\n",
    "plt.hist(data)\n",
    "plt.show()"
   ]
  },
  {
   "cell_type": "markdown",
   "metadata": {},
   "source": [
    "## Упражнение 2.\n",
    "Вероятность поражения цели из каждого ствола двухстволки  равна $p$.\n",
    "Найти моделированием вероятность поражения при стрельбе дуплетом при нескольких значениях $p$."
   ]
  },
  {
   "cell_type": "code",
   "execution_count": null,
   "metadata": {},
   "outputs": [],
   "source": [
    "def hit_generator(p: float = 0.5) -> Generator[bool, None, None]:\n",
    "    while True:\n",
    "        yield (random.random() > p) or (random.random() > p)"
   ]
  },
  {
   "cell_type": "code",
   "execution_count": null,
   "metadata": {
    "scrolled": false
   },
   "outputs": [],
   "source": [
    "n_points = [1000, 10000, 100000, 1000000]\n",
    "p = [sum(itertools.islice(hit_generator(), n)) / n for n in n_points]\n",
    "df = pd.DataFrame.from_dict({'n_points': n_points, 'p': p})"
   ]
  },
  {
   "cell_type": "code",
   "execution_count": null,
   "metadata": {},
   "outputs": [],
   "source": [
    "df"
   ]
  }
 ],
 "metadata": {
  "kernelspec": {
   "display_name": "Python 3",
   "language": "python",
   "name": "python3"
  },
  "language_info": {
   "codemirror_mode": {
    "name": "ipython",
    "version": 3
   },
   "file_extension": ".py",
   "mimetype": "text/x-python",
   "name": "python",
   "nbconvert_exporter": "python",
   "pygments_lexer": "ipython3",
   "version": "3.7.0"
  }
 },
 "nbformat": 4,
 "nbformat_minor": 2
}
