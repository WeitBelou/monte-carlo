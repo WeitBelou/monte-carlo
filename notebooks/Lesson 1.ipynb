{
 "cells": [
  {
   "cell_type": "code",
   "execution_count": null,
   "metadata": {},
   "outputs": [],
   "source": [
    "import random\n",
    "from typing import Generator\n",
    "\n",
    "import matplotlib.pyplot as plt\n",
    "import numpy as np\n",
    "import seaborn as sns\n",
    "\n",
    "\n",
    "def geometric_generator(p: float = 0.5) -> Generator[int, None, None]:\n",
    "    while True:\n",
    "        n = 0\n",
    "        while random.random() > p:\n",
    "            n += 1\n",
    "        yield n\n",
    "\n",
    "\n",
    "def binomial_generator(p: float = 0.5, n: int = 10) -> Generator[int, None, None]:\n",
    "    while True:\n",
    "        k = 0\n",
    "        for i in range(n):\n",
    "            if random.random() > p:\n",
    "                k += 1\n",
    "        yield k\n",
    "\n",
    "\n",
    "def main():\n",
    "    sns.set(style='whitegrid')\n",
    "\n",
    "    n_points = 10000\n",
    "\n",
    "    fig, axs = plt.subplots(1, 2, sharey=True)\n",
    "\n",
    "    data = np.fromiter(geometric_generator(), int, count=n_points)\n",
    "    axs[0].hist(data, bins='auto', label='Geometric distribution')\n",
    "\n",
    "    data = np.fromiter(binomial_generator(), int, count=n_points)\n",
    "    axs[1].hist(data, bins='auto', label='Binomial distribution')\n",
    "\n",
    "    plt.show()\n",
    "\n",
    "\n",
    "if __name__ == '__main__':\n",
    "    main()\n"
   ]
  },
  {
   "cell_type": "code",
   "execution_count": null,
   "metadata": {},
   "outputs": [],
   "source": [
    "import random\n",
    "from typing import Generator\n",
    "\n",
    "import numpy as np\n",
    "\n",
    "\n",
    "def hit_generator(p: float = 0.5) -> Generator[bool, None, None]:\n",
    "    while True:\n",
    "        yield (random.random() > p) or (random.random() > p)\n",
    "\n",
    "\n",
    "def main():\n",
    "    for n_points in [1000, 10000, 100000, 1000000]:\n",
    "        print(f'n_points={n_points}')\n",
    "        data = np.fromiter(hit_generator(), bool, n_points)\n",
    "        print(f'{data.mean()}')\n",
    "\n",
    "\n",
    "if __name__ == '__main__':\n",
    "    main()\n"
   ]
  }
 ],
 "metadata": {
  "kernelspec": {
   "display_name": "Python 3",
   "language": "python",
   "name": "python3"
  },
  "language_info": {
   "codemirror_mode": {
    "name": "ipython",
    "version": 3
   },
   "file_extension": ".py",
   "mimetype": "text/x-python",
   "name": "python",
   "nbconvert_exporter": "python",
   "pygments_lexer": "ipython3",
   "version": "3.7.0"
  }
 },
 "nbformat": 4,
 "nbformat_minor": 2
}
