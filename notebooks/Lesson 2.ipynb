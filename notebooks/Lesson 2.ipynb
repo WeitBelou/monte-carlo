{
 "cells": [
  {
   "cell_type": "code",
   "execution_count": 13,
   "metadata": {},
   "outputs": [],
   "source": [
    "%matplotlib inline\n",
    "\n",
    "import random\n",
    "from itertools import islice\n",
    "from typing import Generator\n",
    "\n",
    "import matplotlib.pyplot as plt\n",
    "import numpy as np\n",
    "import seaborn as sns\n",
    "import pandas as pd\n",
    "\n",
    "sns.set(style='whitegrid')"
   ]
  },
  {
   "cell_type": "markdown",
   "metadata": {},
   "source": [
    "# Задание 2"
   ]
  },
  {
   "cell_type": "code",
   "execution_count": 14,
   "metadata": {},
   "outputs": [],
   "source": [
    "def geometric_generator(p: float = 0.5) -> Generator[int, None, None]:\n",
    "    while True:\n",
    "        n = 0\n",
    "        while random.random() > p:\n",
    "            n += 1\n",
    "        yield n"
   ]
  },
  {
   "cell_type": "code",
   "execution_count": 15,
   "metadata": {},
   "outputs": [],
   "source": [
    "def binomial_generator(p: float = 0.5, n: int = 10) -> Generator[int, None, None]:\n",
    "    while True:\n",
    "        k = 0\n",
    "        for i in range(n):\n",
    "            if random.random() > p:\n",
    "                k += 1\n",
    "        yield k"
   ]
  },
  {
   "cell_type": "markdown",
   "metadata": {},
   "source": [
    "## Упражнение 1.\n",
    "Составить программу для вычисления выборочного среднего значения, дисперсии и относительной флуктуации для __геометрического__ распределения с параметром $p$.\n",
    "\n",
    "Убедиться, что с увеличением $N_t = 10^3, 10^5, 10^7$ их значения стремятся к тому, что следует из теории вероятностей."
   ]
  },
  {
   "cell_type": "code",
   "execution_count": 16,
   "metadata": {},
   "outputs": [],
   "source": [
    "n_points = [10 ** 3, 10 ** 5, 10 ** 7]"
   ]
  },
  {
   "cell_type": "code",
   "execution_count": 17,
   "metadata": {
    "scrolled": true
   },
   "outputs": [],
   "source": [
    "points = np.array([np.fromiter(geometric_generator(), int, n) for n in n_points])"
   ]
  },
  {
   "cell_type": "code",
   "execution_count": 18,
   "metadata": {},
   "outputs": [
    {
     "data": {
      "text/html": [
       "<div>\n",
       "<style scoped>\n",
       "    .dataframe tbody tr th:only-of-type {\n",
       "        vertical-align: middle;\n",
       "    }\n",
       "\n",
       "    .dataframe tbody tr th {\n",
       "        vertical-align: top;\n",
       "    }\n",
       "\n",
       "    .dataframe thead th {\n",
       "        text-align: right;\n",
       "    }\n",
       "</style>\n",
       "<table border=\"1\" class=\"dataframe\">\n",
       "  <thead>\n",
       "    <tr style=\"text-align: right;\">\n",
       "      <th></th>\n",
       "      <th>n_points</th>\n",
       "      <th>mean</th>\n",
       "      <th>std</th>\n",
       "      <th>rf</th>\n",
       "    </tr>\n",
       "  </thead>\n",
       "  <tbody>\n",
       "    <tr>\n",
       "      <th>0</th>\n",
       "      <td>1000</td>\n",
       "      <td>1.007000</td>\n",
       "      <td>2.288951</td>\n",
       "      <td>1.502411</td>\n",
       "    </tr>\n",
       "    <tr>\n",
       "      <th>1</th>\n",
       "      <td>100000</td>\n",
       "      <td>1.003600</td>\n",
       "      <td>2.003807</td>\n",
       "      <td>1.410481</td>\n",
       "    </tr>\n",
       "    <tr>\n",
       "      <th>2</th>\n",
       "      <td>10000000</td>\n",
       "      <td>0.999924</td>\n",
       "      <td>1.999456</td>\n",
       "      <td>1.414128</td>\n",
       "    </tr>\n",
       "  </tbody>\n",
       "</table>\n",
       "</div>"
      ],
      "text/plain": [
       "<div>\n",
       "<style scoped>\n",
       "    .dataframe tbody tr th:only-of-type {\n",
       "        vertical-align: middle;\n",
       "    }\n",
       "\n",
       "    .dataframe tbody tr th {\n",
       "        vertical-align: top;\n",
       "    }\n",
       "\n",
       "    .dataframe thead th {\n",
       "        text-align: right;\n",
       "    }\n",
       "</style>\n",
       "<table border=\"1\" class=\"dataframe\">\n",
       "  <thead>\n",
       "    <tr style=\"text-align: right;\">\n",
       "      <th></th>\n",
       "      <th>n_points</th>\n",
       "      <th>mean</th>\n",
       "      <th>std</th>\n",
       "      <th>rf</th>\n",
       "    </tr>\n",
       "  </thead>\n",
       "  <tbody>\n",
       "    <tr>\n",
       "      <th>0</th>\n",
       "      <td>1000</td>\n",
       "      <td>1.007000</td>\n",
       "      <td>2.288951</td>\n",
       "      <td>1.502411</td>\n",
       "    </tr>\n",
       "    <tr>\n",
       "      <th>1</th>\n",
       "      <td>100000</td>\n",
       "      <td>1.003600</td>\n",
       "      <td>2.003807</td>\n",
       "      <td>1.410481</td>\n",
       "    </tr>\n",
       "    <tr>\n",
       "      <th>2</th>\n",
       "      <td>10000000</td>\n",
       "      <td>0.999924</td>\n",
       "      <td>1.999456</td>\n",
       "      <td>1.414128</td>\n",
       "    </tr>\n",
       "  </tbody>\n",
       "</table>\n",
       "</div>"
      ]
     },
     "execution_count": 18,
     "metadata": {},
     "output_type": "execute_result"
    }
   ],
   "source": [
    "mean = np.array([np.mean(p) for p in points])\n",
    "std = np.array([np.std(p) for p in points]) ** 2\n",
    "rf = np.sqrt(std) / mean\n",
    "\n",
    "df = pd.DataFrame(dict(\n",
    "    n_points=n_points,\n",
    "    mean=mean,\n",
    "    std=std,\n",
    "    rf=rf,\n",
    "))\n",
    "df"
   ]
  },
  {
   "cell_type": "markdown",
   "metadata": {},
   "source": [
    "## Упражнение 2.\n",
    "Составить программу для вычисления выборочного среднего значения, дисперсии и относительной флуктуации для __биномиального__ распределения с параметром $p$.\n",
    "\n",
    "Убедиться, что с увеличением $N_t = 10^3, 10^5, 10^7$ их значения стремятся к тому, что следует из теории вероятностей."
   ]
  },
  {
   "cell_type": "code",
   "execution_count": 19,
   "metadata": {},
   "outputs": [],
   "source": [
    "n_points = [10 ** 3, 10 ** 5, 10 ** 7]"
   ]
  },
  {
   "cell_type": "code",
   "execution_count": 22,
   "metadata": {
    "scrolled": true
   },
   "outputs": [],
   "source": [
    "points = np.array([np.fromiter(binomial_generator(), int, n) for n in n_points])"
   ]
  },
  {
   "cell_type": "code",
   "execution_count": 23,
   "metadata": {},
   "outputs": [
    {
     "data": {
      "text/html": [
       "<div>\n",
       "<style scoped>\n",
       "    .dataframe tbody tr th:only-of-type {\n",
       "        vertical-align: middle;\n",
       "    }\n",
       "\n",
       "    .dataframe tbody tr th {\n",
       "        vertical-align: top;\n",
       "    }\n",
       "\n",
       "    .dataframe thead th {\n",
       "        text-align: right;\n",
       "    }\n",
       "</style>\n",
       "<table border=\"1\" class=\"dataframe\">\n",
       "  <thead>\n",
       "    <tr style=\"text-align: right;\">\n",
       "      <th></th>\n",
       "      <th>n_points</th>\n",
       "      <th>mean</th>\n",
       "      <th>std</th>\n",
       "      <th>rf</th>\n",
       "    </tr>\n",
       "  </thead>\n",
       "  <tbody>\n",
       "    <tr>\n",
       "      <th>0</th>\n",
       "      <td>1000</td>\n",
       "      <td>5.011000</td>\n",
       "      <td>2.626879</td>\n",
       "      <td>0.323441</td>\n",
       "    </tr>\n",
       "    <tr>\n",
       "      <th>1</th>\n",
       "      <td>100000</td>\n",
       "      <td>5.002200</td>\n",
       "      <td>2.489915</td>\n",
       "      <td>0.315451</td>\n",
       "    </tr>\n",
       "    <tr>\n",
       "      <th>2</th>\n",
       "      <td>10000000</td>\n",
       "      <td>4.999187</td>\n",
       "      <td>2.500327</td>\n",
       "      <td>0.316300</td>\n",
       "    </tr>\n",
       "  </tbody>\n",
       "</table>\n",
       "</div>"
      ],
      "text/plain": [
       "<div>\n",
       "<style scoped>\n",
       "    .dataframe tbody tr th:only-of-type {\n",
       "        vertical-align: middle;\n",
       "    }\n",
       "\n",
       "    .dataframe tbody tr th {\n",
       "        vertical-align: top;\n",
       "    }\n",
       "\n",
       "    .dataframe thead th {\n",
       "        text-align: right;\n",
       "    }\n",
       "</style>\n",
       "<table border=\"1\" class=\"dataframe\">\n",
       "  <thead>\n",
       "    <tr style=\"text-align: right;\">\n",
       "      <th></th>\n",
       "      <th>n_points</th>\n",
       "      <th>mean</th>\n",
       "      <th>std</th>\n",
       "      <th>rf</th>\n",
       "    </tr>\n",
       "  </thead>\n",
       "  <tbody>\n",
       "    <tr>\n",
       "      <th>0</th>\n",
       "      <td>1000</td>\n",
       "      <td>5.011000</td>\n",
       "      <td>2.626879</td>\n",
       "      <td>0.323441</td>\n",
       "    </tr>\n",
       "    <tr>\n",
       "      <th>1</th>\n",
       "      <td>100000</td>\n",
       "      <td>5.002200</td>\n",
       "      <td>2.489915</td>\n",
       "      <td>0.315451</td>\n",
       "    </tr>\n",
       "    <tr>\n",
       "      <th>2</th>\n",
       "      <td>10000000</td>\n",
       "      <td>4.999187</td>\n",
       "      <td>2.500327</td>\n",
       "      <td>0.316300</td>\n",
       "    </tr>\n",
       "  </tbody>\n",
       "</table>\n",
       "</div>"
      ]
     },
     "execution_count": 23,
     "metadata": {},
     "output_type": "execute_result"
    }
   ],
   "source": [
    "mean = np.array([np.mean(p) for p in points])\n",
    "std = np.array([np.std(p) for p in points]) ** 2\n",
    "rf = np.sqrt(std) / mean\n",
    "\n",
    "df = pd.DataFrame(dict(\n",
    "    n_points=n_points,\n",
    "    mean=mean,\n",
    "    std=std,\n",
    "    rf=rf,\n",
    "))\n",
    "df"
   ]
  },
  {
   "cell_type": "markdown",
   "metadata": {},
   "source": [
    "## Упражнение 3.\n",
    "Составить программу для моделирования вероятностей __геометрического__ распределения с параметрами $n$, $p$.\n",
    "\n",
    "Провести расчет при $N_t = 10^3, 10^5, 10^7$.\n",
    "\n",
    "Сравнить с тем, что говорит теория вероятностей."
   ]
  },
  {
   "cell_type": "code",
   "execution_count": 28,
   "metadata": {
    "scrolled": true
   },
   "outputs": [
    {
     "data": {
      "image/png": "[encoded data removed]",
      "text/plain": [
       "<Figure size 432x288 with 1 Axes>"
      ]
     },
     "metadata": {},
     "output_type": "display_data"
    }
   ],
   "source": [
    "gen = geometric_generator()\n",
    "\n",
    "for n in [10 ** 3, 10 ** 5, 10 ** 7]:\n",
    "    points = list(islice(gen, n))\n",
    "    uniques = list(sorted(set(points)))\n",
    "    plt.scatter(x=uniques, y=[points.count(u) / n for u in uniques], label=f'{n}')\n",
    "\n",
    "plt.legend()\n",
    "plt.show()"
   ]
  },
  {
   "cell_type": "markdown",
   "metadata": {},
   "source": [
    "## Упражнение 4.\n",
    "Составить программу для моделирования вероятностей биномиального распределения с параметрами $n$, $p$.\n",
    "\n",
    "Провести расчет при $N_t = 10^3, 10^5, 10^7$.\n",
    "\n",
    "Сравнить с тем, что говорит теория вероятностей."
   ]
  },
  {
   "cell_type": "code",
   "execution_count": 30,
   "metadata": {
    "scrolled": true
   },
   "outputs": [
    {
     "name": "stdout",
     "output_type": "stream",
     "text": [
      "1000 computed\n"
     ]
    },
    {
     "name": "stdout",
     "output_type": "stream",
     "text": [
      "100000 computed\n"
     ]
    },
    {
     "name": "stdout",
     "output_type": "stream",
     "text": [
      "10000000 computed\n"
     ]
    },
    {
     "data": {
      "image/png": "[encoded data removed]",
      "text/plain": [
       "<Figure size 432x288 with 1 Axes>"
      ]
     },
     "metadata": {},
     "output_type": "display_data"
    }
   ],
   "source": [
    "gen = binomial_generator(p=0.4, n=100)\n",
    "\n",
    "for n in [10 ** 3, 10 ** 5, 10 ** 7]:\n",
    "    points = list(islice(gen, n))\n",
    "    uniques = list(sorted(set(points)))\n",
    "    plt.scatter(x=uniques, y=[points.count(u) / n for u in uniques], label=f'{n}')\n",
    "    print(f'{n} computed')\n",
    "\n",
    "plt.legend()\n",
    "plt.show()"
   ]
  },
  {
   "cell_type": "markdown",
   "metadata": {},
   "source": [
    "## Упражнение 5.\n",
    "Найти среднее значение и вероятности различных значений суммы очков на трех игральных кубиках."
   ]
  },
  {
   "cell_type": "code",
   "execution_count": 55,
   "metadata": {},
   "outputs": [],
   "source": [
    "def multiple_dices_generator(n_dices: int = 3) -> Generator[int, None, None]:\n",
    "    choices = (1, 2, 3, 4, 5, 6)\n",
    "\n",
    "    while True:\n",
    "        yield sum(random.choices(choices, k=n_dices))\n"
   ]
  },
  {
   "cell_type": "code",
   "execution_count": 58,
   "metadata": {},
   "outputs": [
    {
     "name": "stdout",
     "output_type": "stream",
     "text": [
      "1000 computed\nmean=10.488\n"
     ]
    },
    {
     "name": "stdout",
     "output_type": "stream",
     "text": [
      "100000 computed\nmean=10.52586\n"
     ]
    },
    {
     "name": "stdout",
     "output_type": "stream",
     "text": [
      "10000000 computed\nmean=10.4999986\n"
     ]
    },
    {
     "data": {
      "image/png": "[encoded data removed]",
      "text/plain": [
       "<Figure size 432x288 with 1 Axes>"
      ]
     },
     "metadata": {},
     "output_type": "display_data"
    }
   ],
   "source": [
    "gen = multiple_dices_generator()\n",
    "\n",
    "for n in [10 ** 3, 10 ** 5, 10 ** 7]:\n",
    "    points = list(islice(gen, n))\n",
    "    uniques = list(sorted(set(points)))\n",
    "    plt.scatter(x=uniques, y=[points.count(u) / n for u in uniques], label=f'{n}')\n",
    "    print(f'{n} computed')\n",
    "    print(f'mean={sum(points) / n}')\n",
    "\n",
    "plt.legend()\n",
    "plt.show()"
   ]
  },
  {
   "cell_type": "code",
   "execution_count": null,
   "metadata": {},
   "outputs": [],
   "source": []
  }
 ],
 "metadata": {
  "kernelspec": {
   "display_name": "Python 3",
   "language": "python",
   "name": "python3"
  },
  "language_info": {
   "codemirror_mode": {
    "name": "ipython",
    "version": 3
   },
   "file_extension": ".py",
   "mimetype": "text/x-python",
   "name": "python",
   "nbconvert_exporter": "python",
   "pygments_lexer": "ipython3",
   "version": "3.7.0"
  }
 },
 "nbformat": 4,
 "nbformat_minor": 2
}
