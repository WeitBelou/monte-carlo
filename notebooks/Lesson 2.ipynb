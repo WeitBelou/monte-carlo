{
 "cells": [
  {
   "cell_type": "markdown",
   "metadata": {},
   "source": [
    "# Lesson 2"
   ]
  },
  {
   "cell_type": "markdown",
   "metadata": {},
   "source": [
    "## Common imports and settings"
   ]
  },
  {
   "cell_type": "code",
   "execution_count": null,
   "metadata": {},
   "outputs": [],
   "source": [
    "%matplotlib inline\n",
    "\n",
    "import random\n",
    "from itertools import islice\n",
    "from typing import Generator\n",
    "\n",
    "import matplotlib.pyplot as plt\n",
    "import numpy as np\n",
    "import seaborn as sns\n",
    "import pandas as pd\n",
    "\n",
    "sns.set(style='whitegrid')"
   ]
  },
  {
   "cell_type": "markdown",
   "metadata": {},
   "source": [
    "## Generators from previous lesson"
   ]
  },
  {
   "cell_type": "code",
   "execution_count": null,
   "metadata": {},
   "outputs": [],
   "source": [
    "def geometric_generator(p: float = 0.5) -> Generator[int, None, None]:\n",
    "    while True:\n",
    "        n = 0\n",
    "        while random.random() > p:\n",
    "            n += 1\n",
    "        yield n"
   ]
  },
  {
   "cell_type": "code",
   "execution_count": null,
   "metadata": {},
   "outputs": [],
   "source": [
    "def binomial_generator(p: float = 0.5, n: int = 10) -> Generator[int, None, None]:\n",
    "    while True:\n",
    "        k = 0\n",
    "        for i in range(n):\n",
    "            if random.random() > p:\n",
    "                k += 1\n",
    "        yield k"
   ]
  },
  {
   "cell_type": "markdown",
   "metadata": {},
   "source": [
    "## Exercise 1. Geometric distribution. Statistics."
   ]
  },
  {
   "cell_type": "code",
   "execution_count": null,
   "metadata": {},
   "outputs": [],
   "source": [
    "n_points = [10 ** 3, 10 ** 5, 10 ** 7]"
   ]
  },
  {
   "cell_type": "code",
   "execution_count": null,
   "metadata": {
    "scrolled": true
   },
   "outputs": [],
   "source": [
    "points = np.array([np.fromiter(geometric_generator(), int, n) for n in n_points])"
   ]
  },
  {
   "cell_type": "code",
   "execution_count": null,
   "metadata": {},
   "outputs": [],
   "source": [
    "mean = np.array([np.mean(p) for p in points])\n",
    "std = np.array([np.std(p) for p in points]) ** 2\n",
    "rf = np.sqrt(std) / mean\n",
    "\n",
    "df = pd.DataFrame(dict(\n",
    "    n_points=n_points,\n",
    "    mean=mean,\n",
    "    std=std,\n",
    "    rf=rf,\n",
    "))\n",
    "df"
   ]
  },
  {
   "cell_type": "markdown",
   "metadata": {},
   "source": [
    "## Exercise 2. Binomial distribution. Statistics."
   ]
  },
  {
   "cell_type": "code",
   "execution_count": null,
   "metadata": {},
   "outputs": [],
   "source": [
    "n_points = [10 ** 3, 10 ** 5, 10 ** 7]"
   ]
  },
  {
   "cell_type": "code",
   "execution_count": null,
   "metadata": {
    "scrolled": true
   },
   "outputs": [],
   "source": [
    "points = np.array([np.fromiter(binomial_generator(), int, n) for n in n_points])"
   ]
  },
  {
   "cell_type": "code",
   "execution_count": null,
   "metadata": {},
   "outputs": [],
   "source": [
    "mean = np.array([np.mean(p) for p in points])\n",
    "std = np.array([np.std(p) for p in points]) ** 2\n",
    "rf = np.sqrt(std) / mean\n",
    "\n",
    "df = pd.DataFrame(dict(\n",
    "    n_points=n_points,\n",
    "    mean=mean,\n",
    "    std=std,\n",
    "    rf=rf,\n",
    "))\n",
    "df"
   ]
  },
  {
   "cell_type": "markdown",
   "metadata": {},
   "source": [
    "## Exercise 3. Geometric distribution. Probabilities."
   ]
  },
  {
   "cell_type": "code",
   "execution_count": null,
   "metadata": {
    "scrolled": true
   },
   "outputs": [],
   "source": [
    "gen = geometric_generator()\n",
    "for n in [10 ** 3, 10 ** 5, 10 ** 7]:\n",
    "    points = list(islice(gen, n))\n",
    "    uniques = list(sorted(set(points)))\n",
    "    df = pd.DataFrame(dict(\n",
    "        value=uniques,\n",
    "        p=[points.count(u) / n for u in uniques]\n",
    "    ))\n",
    "    print(\n",
    "f'''n_points={n}\n",
    "{df.to_string(index=False)}\n",
    "''')"
   ]
  },
  {
   "cell_type": "markdown",
   "metadata": {},
   "source": [
    "## Exercise 4. Binomial distribution. Probabilities."
   ]
  },
  {
   "cell_type": "code",
   "execution_count": null,
   "metadata": {
    "scrolled": true
   },
   "outputs": [],
   "source": [
    "gen = binomial_generator()\n",
    "for n in [10 ** 3, 10 ** 5, 10 ** 7]:\n",
    "    points = list(islice(gen, n))\n",
    "    uniques = list(sorted(set(points)))\n",
    "    df = pd.DataFrame(dict(\n",
    "        value=uniques,\n",
    "        p=[points.count(u) / n for u in uniques]\n",
    "    ))\n",
    "    print(\n",
    "f'''n_points={n}\n",
    "{df.to_string(index=False)}\n",
    "''')"
   ]
  },
  {
   "cell_type": "code",
   "execution_count": null,
   "metadata": {},
   "outputs": [],
   "source": []
  }
 ],
 "metadata": {
  "kernelspec": {
   "display_name": "Python 3",
   "language": "python",
   "name": "python3"
  },
  "language_info": {
   "codemirror_mode": {
    "name": "ipython",
    "version": 3
   },
   "file_extension": ".py",
   "mimetype": "text/x-python",
   "name": "python",
   "nbconvert_exporter": "python",
   "pygments_lexer": "ipython3",
   "version": "3.7.0"
  }
 },
 "nbformat": 4,
 "nbformat_minor": 2
}
